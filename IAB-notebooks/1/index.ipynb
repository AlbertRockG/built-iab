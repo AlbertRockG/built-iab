{
 "cells": [
  {
   "cell_type": "markdown",
   "metadata": {},
   "source": [
    "# [1]() Getting started <a class='iab-edit' href='https://github.com/caporaso-lab/An-Introduction-to-Applied-Bioinformatics/edit/master/book/getting-started/index.md#L1' target='_blank'>[edit]</a>"
   ]
  },
  {
   "cell_type": "markdown",
   "metadata": {},
   "source": [
    "**Table of Contents**\n",
    "0. [Reading An Introduction to Applied Bioinformatics](1.ipynb)\n",
    "    0. [Who should read IAB?](1.ipynb#1)\n",
    "    0. [How to read IAB](1.ipynb#2)\n",
    "    0. [Using Jupyter Notebooks to read IAB interactively](1.ipynb#3)\n",
    "    0. [Reading list](1.ipynb#4)\n",
    "        0. [Getting started with Biology](1.ipynb#4.1)\n",
    "        0. [Getting started with Computer Science and programming](1.ipynb#4.2)\n",
    "        0. [Philosophy of biology and popular science books](1.ipynb#4.3)\n",
    "    0. [Need help?](1.ipynb#5)\n",
    "    0. [Contributing and Code of Conduct](1.ipynb#6)\n",
    "    0. [Acknowledgements](1.ipynb#7)\n",
    "0. [Biological Information](2.ipynb)\n",
    "    0. [Central Dogma of Molecular Biology](2.ipynb#1)\n",
    "    0. [Binary and decimal numerical systems](2.ipynb#2)\n",
    "    0. [Encoding messages in bits](2.ipynb#3)\n",
    "    0. [DNA messages are encoded in a base 4 systems](2.ipynb#4)\n",
    "    0. [Quantifying information](2.ipynb#5)"
   ]
  }
 ],
 "metadata": {},
 "nbformat": 4,
 "nbformat_minor": 4
}
